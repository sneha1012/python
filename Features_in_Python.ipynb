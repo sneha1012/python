{
  "nbformat": 4,
  "nbformat_minor": 0,
  "metadata": {
    "colab": {
      "provenance": [],
      "authorship_tag": "ABX9TyPA7TnP0z0i8ucDqn9GbPpw",
      "include_colab_link": true
    },
    "kernelspec": {
      "name": "python3",
      "display_name": "Python 3"
    },
    "language_info": {
      "name": "python"
    }
  },
  "cells": [
    {
      "cell_type": "markdown",
      "metadata": {
        "id": "view-in-github",
        "colab_type": "text"
      },
      "source": [
        "<a href=\"https://colab.research.google.com/github/sneha1012/python/blob/main/Features_in_Python.ipynb\" target=\"_parent\"><img src=\"https://colab.research.google.com/assets/colab-badge.svg\" alt=\"Open In Colab\"/></a>"
      ]
    },
    {
      "cell_type": "markdown",
      "source": [
        "Variable Types and correct format. We can chesk the type of variable using. 'type'\n",
        "Anything in double quotes is a string : example of a string **\"We are learning python\"**"
      ],
      "metadata": {
        "id": "YPJpT2dG9kkp"
      }
    },
    {
      "cell_type": "code",
      "source": [
        " name = \"sneha\"\n",
        " print(name)"
      ],
      "metadata": {
        "colab": {
          "base_uri": "https://localhost:8080/"
        },
        "id": "llS2cvXm9nCa",
        "outputId": "8e3e24c4-2199-4af7-89c6-d9ce26076557"
      },
      "execution_count": 5,
      "outputs": [
        {
          "output_type": "stream",
          "name": "stdout",
          "text": [
            "sneha\n"
          ]
        }
      ]
    },
    {
      "cell_type": "code",
      "source": [
        "name =\"sneha\"\n",
        "print(type(name))"
      ],
      "metadata": {
        "colab": {
          "base_uri": "https://localhost:8080/"
        },
        "id": "D8dSx4nU_fEG",
        "outputId": "d685789a-88d7-4ee1-d1d5-50b49c3211ed"
      },
      "execution_count": 4,
      "outputs": [
        {
          "output_type": "stream",
          "name": "stdout",
          "text": [
            "<class 'str'>\n"
          ]
        }
      ]
    },
    {
      "cell_type": "markdown",
      "source": [
        "'isinstance' is used to identify or check that the variable name is an instance of type string."
      ],
      "metadata": {
        "id": "gAFqrSo8ANrj"
      }
    },
    {
      "cell_type": "code",
      "source": [
        "name =\"sneha\"\n",
        "print(isinstance(name, str))"
      ],
      "metadata": {
        "colab": {
          "base_uri": "https://localhost:8080/"
        },
        "id": "pJlvIZJRAZtl",
        "outputId": "dfe529cf-f76b-48d0-d8d8-4081c81fc49b"
      },
      "execution_count": null,
      "outputs": [
        {
          "output_type": "stream",
          "name": "stdout",
          "text": [
            "True\n"
          ]
        }
      ]
    },
    {
      "cell_type": "markdown",
      "source": [
        "Comments are used to highlight something or explain something within the code blocks. #everything after this hash will be ignored"
      ],
      "metadata": {
        "id": "NguOiaE9-2zj"
      }
    },
    {
      "cell_type": "code",
      "source": [
        "age = 20\n",
        "print(isinstance(age, float))"
      ],
      "metadata": {
        "id": "Dl9WwkS-_B_j",
        "outputId": "fc0adc82-ac11-4f5c-c496-01538c560cc3",
        "colab": {
          "base_uri": "https://localhost:8080/"
        }
      },
      "execution_count": 1,
      "outputs": [
        {
          "output_type": "stream",
          "name": "stdout",
          "text": [
            "False\n"
          ]
        }
      ]
    },
    {
      "cell_type": "code",
      "source": [
        "# we can make it a float or any datatype for say using the datatypeahead of the valueage\n",
        "age = float(20)\n",
        "print(isinstance(age, float))"
      ],
      "metadata": {
        "id": "FdRBf9-BpNhB",
        "outputId": "67201910-1fc5-4d54-da69-6bf6efbd3ceb",
        "colab": {
          "base_uri": "https://localhost:8080/"
        }
      },
      "execution_count": 3,
      "outputs": [
        {
          "output_type": "stream",
          "name": "stdout",
          "text": [
            "True\n"
          ]
        }
      ]
    }
  ]
}