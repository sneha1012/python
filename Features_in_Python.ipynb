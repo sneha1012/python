{
  "nbformat": 4,
  "nbformat_minor": 0,
  "metadata": {
    "colab": {
      "provenance": [],
      "authorship_tag": "ABX9TyMXHN+eGceYhcszY1jtBAS1",
      "include_colab_link": true
    },
    "kernelspec": {
      "name": "python3",
      "display_name": "Python 3"
    },
    "language_info": {
      "name": "python"
    }
  },
  "cells": [
    {
      "cell_type": "markdown",
      "metadata": {
        "id": "view-in-github",
        "colab_type": "text"
      },
      "source": [
        "<a href=\"https://colab.research.google.com/github/sneha1012/python/blob/main/Features_in_Python.ipynb\" target=\"_parent\"><img src=\"https://colab.research.google.com/assets/colab-badge.svg\" alt=\"Open In Colab\"/></a>"
      ]
    },
    {
      "cell_type": "markdown",
      "source": [
        "Variable Types and correct format. We can chesk the type of variable using. 'type'"
      ],
      "metadata": {
        "id": "YPJpT2dG9kkp"
      }
    },
    {
      "cell_type": "code",
      "source": [
        " name = \"sneha\"\n",
        " print(name)"
      ],
      "metadata": {
        "colab": {
          "base_uri": "https://localhost:8080/"
        },
        "id": "llS2cvXm9nCa",
        "outputId": "0feaa3c3-7976-4853-ce92-32ea24fde479"
      },
      "execution_count": 1,
      "outputs": [
        {
          "output_type": "stream",
          "name": "stdout",
          "text": [
            "sneha\n"
          ]
        }
      ]
    },
    {
      "cell_type": "code",
      "source": [
        "name =\"sneha\"\n",
        "print(type(name))"
      ],
      "metadata": {
        "colab": {
          "base_uri": "https://localhost:8080/"
        },
        "id": "D8dSx4nU_fEG",
        "outputId": "6873f895-878b-479c-a793-22d58ac20521"
      },
      "execution_count": 7,
      "outputs": [
        {
          "output_type": "stream",
          "name": "stdout",
          "text": [
            "<class 'str'>\n"
          ]
        }
      ]
    },
    {
      "cell_type": "markdown",
      "source": [
        "'isinstance' is used to identify or check that the variable name is an instance of type string."
      ],
      "metadata": {
        "id": "gAFqrSo8ANrj"
      }
    },
    {
      "cell_type": "code",
      "source": [
        "name =\"sneha\"\n",
        "print(isinstance(name, str))"
      ],
      "metadata": {
        "colab": {
          "base_uri": "https://localhost:8080/"
        },
        "id": "pJlvIZJRAZtl",
        "outputId": "dfe529cf-f76b-48d0-d8d8-4081c81fc49b"
      },
      "execution_count": 8,
      "outputs": [
        {
          "output_type": "stream",
          "name": "stdout",
          "text": [
            "True\n"
          ]
        }
      ]
    },
    {
      "cell_type": "markdown",
      "source": [
        "Comments are used to highlight something or explain something within the code blocks. #everything after this hash will be ignored"
      ],
      "metadata": {
        "id": "NguOiaE9-2zj"
      }
    },
    {
      "cell_type": "code",
      "source": [],
      "metadata": {
        "id": "Dl9WwkS-_B_j"
      },
      "execution_count": null,
      "outputs": []
    }
  ]
}