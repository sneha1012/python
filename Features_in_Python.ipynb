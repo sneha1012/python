{
  "nbformat": 4,
  "nbformat_minor": 0,
  "metadata": {
    "colab": {
      "provenance": [],
      "authorship_tag": "ABX9TyOmkMc2QPW5MfbHm3UZ6BH7",
      "include_colab_link": true
    },
    "kernelspec": {
      "name": "python3",
      "display_name": "Python 3"
    },
    "language_info": {
      "name": "python"
    }
  },
  "cells": [
    {
      "cell_type": "markdown",
      "metadata": {
        "id": "view-in-github",
        "colab_type": "text"
      },
      "source": [
        "<a href=\"https://colab.research.google.com/github/sneha1012/python/blob/main/Features_in_Python.ipynb\" target=\"_parent\"><img src=\"https://colab.research.google.com/assets/colab-badge.svg\" alt=\"Open In Colab\"/></a>"
      ]
    },
    {
      "cell_type": "markdown",
      "source": [
        "Variable Types and correct format. We can chesk the type of variable using. 'type'\n",
        "Anything in double quotes is a string : example of a string **\"We are learning python\"**"
      ],
      "metadata": {
        "id": "YPJpT2dG9kkp"
      }
    },
    {
      "cell_type": "code",
      "source": [
        " name = \"sneha\"\n",
        " print(name)"
      ],
      "metadata": {
        "colab": {
          "base_uri": "https://localhost:8080/"
        },
        "id": "llS2cvXm9nCa",
        "outputId": "8e3e24c4-2199-4af7-89c6-d9ce26076557"
      },
      "execution_count": 5,
      "outputs": [
        {
          "output_type": "stream",
          "name": "stdout",
          "text": [
            "sneha\n"
          ]
        }
      ]
    },
    {
      "cell_type": "code",
      "source": [
        "name =\"sneha\"\n",
        "print(type(name))"
      ],
      "metadata": {
        "colab": {
          "base_uri": "https://localhost:8080/"
        },
        "id": "D8dSx4nU_fEG",
        "outputId": "d685789a-88d7-4ee1-d1d5-50b49c3211ed"
      },
      "execution_count": 4,
      "outputs": [
        {
          "output_type": "stream",
          "name": "stdout",
          "text": [
            "<class 'str'>\n"
          ]
        }
      ]
    },
    {
      "cell_type": "markdown",
      "source": [
        "'isinstance' is used to identify or check that the variable name is an instance of type string."
      ],
      "metadata": {
        "id": "gAFqrSo8ANrj"
      }
    },
    {
      "cell_type": "code",
      "source": [
        "name =\"sneha\"\n",
        "print(isinstance(name, str))"
      ],
      "metadata": {
        "colab": {
          "base_uri": "https://localhost:8080/"
        },
        "id": "pJlvIZJRAZtl",
        "outputId": "dfe529cf-f76b-48d0-d8d8-4081c81fc49b"
      },
      "execution_count": null,
      "outputs": [
        {
          "output_type": "stream",
          "name": "stdout",
          "text": [
            "True\n"
          ]
        }
      ]
    },
    {
      "cell_type": "markdown",
      "source": [
        "Comments are used to highlight something or explain something within the code blocks. #everything after this hash will be ignored"
      ],
      "metadata": {
        "id": "NguOiaE9-2zj"
      }
    },
    {
      "cell_type": "code",
      "source": [
        "age = 20\n",
        "print(isinstance(age, float))"
      ],
      "metadata": {
        "id": "Dl9WwkS-_B_j",
        "colab": {
          "base_uri": "https://localhost:8080/"
        },
        "outputId": "fc0adc82-ac11-4f5c-c496-01538c560cc3"
      },
      "execution_count": 1,
      "outputs": [
        {
          "output_type": "stream",
          "name": "stdout",
          "text": [
            "False\n"
          ]
        }
      ]
    },
    {
      "cell_type": "code",
      "source": [
        "# we can make it a float or any datatype for say using the datatypeahead of the valueage\n",
        "age = float(20)\n",
        "print(isinstance(age, float))"
      ],
      "metadata": {
        "colab": {
          "base_uri": "https://localhost:8080/"
        },
        "id": "FdRBf9-BpNhB",
        "outputId": "67201910-1fc5-4d54-da69-6bf6efbd3ceb"
      },
      "execution_count": 3,
      "outputs": [
        {
          "output_type": "stream",
          "name": "stdout",
          "text": [
            "True\n"
          ]
        }
      ]
    },
    {
      "cell_type": "markdown",
      "source": [
        "There are many types that we can use in our python code.\n",
        "\n",
        "\n",
        "\n",
        "\n",
        "*   **complex** for complex numbers\n",
        "\n",
        "*   **bool** for booleans\n",
        "\n",
        "*   **list** for lists\n",
        "\n",
        "*   **tuple** for tuples\n",
        "\n",
        "*   **range** for ranges\n",
        "*   **dict** for dictionary\n",
        "\n",
        "\n",
        "*   **set** for sets\n",
        "\n",
        "\n",
        "\n",
        "\n",
        "\n",
        "\n",
        "\n",
        "\n",
        "\n",
        "\n",
        "\n",
        "\n"
      ],
      "metadata": {
        "id": "CXZQx4mgt7ND"
      }
    },
    {
      "cell_type": "code",
      "source": [
        "#operators can be combined using assignment operator\n",
        "\n",
        "age = 8\n",
        "age += 8 # age = age + 8\n",
        "print(age)\n",
        "\n",
        "age = 8\n",
        "age *= 8 # age = 8 times age\n",
        "print(age)"
      ],
      "metadata": {
        "id": "tzb17rdzuyVJ",
        "outputId": "66a00283-1350-47a4-def0-88f0f317db21",
        "colab": {
          "base_uri": "https://localhost:8080/"
        }
      },
      "execution_count": 7,
      "outputs": [
        {
          "output_type": "stream",
          "name": "stdout",
          "text": [
            "16\n",
            "64\n"
          ]
        }
      ]
    },
    {
      "cell_type": "code",
      "source": [],
      "metadata": {
        "id": "HdE6CtvG53s4"
      },
      "execution_count": null,
      "outputs": []
    },
    {
      "cell_type": "markdown",
      "source": [],
      "metadata": {
        "id": "fQr2xNxj5lO4"
      }
    },
    {
      "cell_type": "code",
      "source": [],
      "metadata": {
        "id": "0J1JWIla5mQW"
      },
      "execution_count": null,
      "outputs": []
    },
    {
      "cell_type": "code",
      "source": [
        "#work like logical operator\n",
        "\n",
        "condition1 = True\n",
        "condition2 = False\n",
        "\n",
        "not condition1 #false\n",
        "condition1 and condition2 #false\n",
        "condition1 or condition2 #true"
      ],
      "metadata": {
        "id": "0ShptT3T2bNg"
      },
      "execution_count": null,
      "outputs": []
    },
    {
      "cell_type": "markdown",
      "source": [
        "Assingment operators we normally use in python.\n",
        "\n",
        "a = 1\n",
        "b = 2\n",
        "a == b #false\n",
        "a != b #true (not equals to)\n",
        "a > b #false\n",
        "a <= b #true\n",
        "\n",
        "\n",
        "\n",
        "---\n",
        "\n",
        "\n",
        "\n",
        "---\n",
        "\n",
        "\n",
        "\n",
        "*   OR (or) returns the first value but if false then return tha second value.\n",
        "\n",
        "eg. print(0 or 1) ##1 //\n",
        "\n",
        "    print(false or 'hey') ## 'hey'\n",
        "\n",
        "*   AND (and) only discusses the second value if the first value is TRUE\n",
        "\n",
        "\n",
        "\n",
        "\n",
        "*   'is' is identity operator\n",
        "used to compare two objects\n",
        "*   'in'  membership operator\n",
        "\n",
        "\n",
        "\n",
        "\n",
        "\n",
        "\n",
        "\n"
      ],
      "metadata": {
        "id": "578iqEuWwIFG"
      }
    },
    {
      "cell_type": "code",
      "source": [
        "#& performs binary AND\n",
        "#| performs binary OR\n",
        "#^ performs a binary XOR operation\n",
        "#~ performs a binary NOT operation\n",
        "# << shift left operation\n",
        "# >> shift right operation\n"
      ],
      "metadata": {
        "id": "dUMUmXfkBrB2"
      },
      "execution_count": null,
      "outputs": []
    }
  ]
}